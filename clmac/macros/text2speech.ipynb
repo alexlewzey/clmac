{
 "cells": [
  {
   "cell_type": "code",
   "execution_count": 5,
   "metadata": {},
   "outputs": [],
   "source": [
    "#| default_exp text2speech"
   ]
  },
  {
   "attachments": {},
   "cell_type": "markdown",
   "metadata": {},
   "source": [
    "Had to apply these two fixes to the pyttsx3 package for it to work on mac ventura:\n",
    "- https://stackoverflow.com/questions/76434535/attributeerror-super-object-has-no-attribute-init\n",
    "- https://stackoverflow.com/questions/74268825/pyttsx3-stopped-working-after-updating-to-macos-ventura"
   ]
  },
  {
   "cell_type": "code",
   "execution_count": 6,
   "metadata": {},
   "outputs": [],
   "source": [
    "#| export\n",
    "from multiprocessing import Process\n",
    "\n",
    "import pyperclip\n",
    "import pyttsx3\n",
    "\n",
    "engine = pyttsx3.init()\n",
    "voices = engine.getProperty(\"voices\")\n",
    "engine.setProperty(\"voice\", voices[1].id)\n",
    "engine.setProperty(\"rate\", 250)\n",
    "\n",
    "\n",
    "def speak_clipboard():\n",
    "    text = pyperclip.paste()\n",
    "    engine.say(text)\n",
    "    engine.runAndWait()\n",
    "\n",
    "\n",
    "def text2speech() -> None:\n",
    "    process = Process(target=speak_clipboard)\n",
    "    process.start()"
   ]
  },
  {
   "cell_type": "code",
   "execution_count": 9,
   "metadata": {},
   "outputs": [],
   "source": [
    "from nbdev.export import nb_export\n",
    "nb_export('text2speech.ipynb', './')"
   ]
  }
 ],
 "metadata": {
  "kernelspec": {
   "display_name": "base",
   "language": "python",
   "name": "python3"
  },
  "language_info": {
   "codemirror_mode": {
    "name": "ipython",
    "version": 3
   },
   "file_extension": ".py",
   "mimetype": "text/x-python",
   "name": "python",
   "nbconvert_exporter": "python",
   "pygments_lexer": "ipython3",
   "version": "3.9.10"
  },
  "orig_nbformat": 4
 },
 "nbformat": 4,
 "nbformat_minor": 2
}
